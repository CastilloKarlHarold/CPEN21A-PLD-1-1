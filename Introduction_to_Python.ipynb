{
  "nbformat": 4,
  "nbformat_minor": 0,
  "metadata": {
    "colab": {
      "provenance": [],
      "authorship_tag": "ABX9TyM1xYiNaPO3QdxH8My4iiAu",
      "include_colab_link": true
    },
    "kernelspec": {
      "name": "python3",
      "display_name": "Python 3"
    },
    "language_info": {
      "name": "python"
    }
  },
  "cells": [
    {
      "cell_type": "markdown",
      "metadata": {
        "id": "view-in-github",
        "colab_type": "text"
      },
      "source": [
        "<a href=\"https://colab.research.google.com/github/CastilloKarlHarold/CPEN21A-PLD-1-1/blob/main/Introduction_to_Python.ipynb\" target=\"_parent\"><img src=\"https://colab.research.google.com/assets/colab-badge.svg\" alt=\"Open In Colab\"/></a>"
      ]
    },
    {
      "cell_type": "markdown",
      "source": [
        "Indentation\n",
        "\n",
        "```\n",
        "# This is formatted as code\n",
        "```\n",
        "\n"
      ],
      "metadata": {
        "id": "yCVfXuFCCXYW"
      }
    },
    {
      "cell_type": "code",
      "source": [
        "#determining if six is greater than 1\n",
        "if 6>1:\n",
        "  print(\"6 is greater than 1\")  #this indentation means the syntax is correct"
      ],
      "metadata": {
        "colab": {
          "base_uri": "https://localhost:8080/"
        },
        "id": "8N5a_SZtCe0v",
        "outputId": "16d7a90a-7ff9-4d3c-f5cc-cd008204029c"
      },
      "execution_count": 3,
      "outputs": [
        {
          "output_type": "stream",
          "name": "stdout",
          "text": [
            "6 is greater than 1\n"
          ]
        }
      ]
    },
    {
      "cell_type": "markdown",
      "source": [
        "Variable Declaration"
      ],
      "metadata": {
        "id": "gDfYTzWvDs9-"
      }
    },
    {
      "cell_type": "code",
      "source": [
        "#variable with sigle value\n",
        "x=5\n",
        "y=3\n",
        "if x>y:\n",
        "  print(\"x is greater than 1\")\n",
        "else:\n",
        "  print(\"y is greater than x\")\n",
        "\n",
        "#variable with multiple value\n",
        "a,b = 1,2\n",
        "print(\"the value of a is:\",a)\n",
        "print(\"the value of b is:\",b)"
      ],
      "metadata": {
        "colab": {
          "base_uri": "https://localhost:8080/"
        },
        "id": "yNMPWX_ODyYK",
        "outputId": "983ef53a-4108-4acf-e9f1-668b36a266aa"
      },
      "execution_count": 2,
      "outputs": [
        {
          "output_type": "stream",
          "name": "stdout",
          "text": [
            "x is greater than 1\n",
            "the value of a is: 1\n",
            "the value of b is: 2\n"
          ]
        }
      ]
    },
    {
      "cell_type": "markdown",
      "source": [
        "One Value to Multiple Variables"
      ],
      "metadata": {
        "id": "a3G4Maq2Gfvw"
      }
    },
    {
      "cell_type": "code",
      "source": [
        "#Multiple variables with a single value\n",
        "p=q=r= \"sir\"\n",
        "print(p)\n",
        "print(q)\n",
        "print(r)"
      ],
      "metadata": {
        "colab": {
          "base_uri": "https://localhost:8080/"
        },
        "id": "3PHgOxqgGlLI",
        "outputId": "0a74fa36-a092-4981-aef5-16e5819be5dd"
      },
      "execution_count": 4,
      "outputs": [
        {
          "output_type": "stream",
          "name": "stdout",
          "text": [
            "sir\n",
            "sir\n",
            "sir\n"
          ]
        }
      ]
    },
    {
      "cell_type": "markdown",
      "source": [
        "Casting and Type() Function"
      ],
      "metadata": {
        "id": "7Vfaeu1FHOEg"
      }
    },
    {
      "cell_type": "code",
      "source": [
        "f=int(4)  #integer\n",
        "g=float(4)  #decimal/fractional\n",
        "\n",
        "#f value and type\n",
        "print(f)\n",
        "print(type(f))\n",
        "#g value and type\n",
        "print(g)\n",
        "print(type(g))"
      ],
      "metadata": {
        "colab": {
          "base_uri": "https://localhost:8080/"
        },
        "id": "zQ9P6KNKHa3o",
        "outputId": "c626a3e8-5d84-4791-9702-79daa72418e3"
      },
      "execution_count": 5,
      "outputs": [
        {
          "output_type": "stream",
          "name": "stdout",
          "text": [
            "4\n",
            "<class 'int'>\n",
            "4.0\n",
            "<class 'float'>\n"
          ]
        }
      ]
    },
    {
      "cell_type": "markdown",
      "source": [],
      "metadata": {
        "id": "hS0s-NPgJ84v"
      }
    },
    {
      "cell_type": "markdown",
      "source": [
        "Double Quote or Single Quote"
      ],
      "metadata": {
        "id": "luQIPstxJ9Kj"
      }
    },
    {
      "cell_type": "code",
      "source": [
        "name= \"Harold\"\n",
        "name1= 'Castillo'\n",
        "print(name, name1)"
      ],
      "metadata": {
        "colab": {
          "base_uri": "https://localhost:8080/"
        },
        "id": "P8YZWTgbKI9M",
        "outputId": "5c42d43b-fb7e-49f2-d465-836c31d57c88"
      },
      "execution_count": 6,
      "outputs": [
        {
          "output_type": "stream",
          "name": "stdout",
          "text": [
            "Harold Castillo\n"
          ]
        }
      ]
    },
    {
      "cell_type": "markdown",
      "source": [
        "Case Sentitive"
      ],
      "metadata": {
        "id": "N1Pk0Kx-Keej"
      }
    },
    {
      "cell_type": "code",
      "source": [
        "#variables are case sensitive\n",
        "a= \"Ana\"\n",
        "print(a)\n",
        "A= \"John\"\n",
        "print(A)"
      ],
      "metadata": {
        "colab": {
          "base_uri": "https://localhost:8080/"
        },
        "id": "niL9DliEKibS",
        "outputId": "0055aa0e-9065-4d4b-87b0-9c1c193b4afa"
      },
      "execution_count": 7,
      "outputs": [
        {
          "output_type": "stream",
          "name": "stdout",
          "text": [
            "Ana\n",
            "John\n"
          ]
        }
      ]
    },
    {
      "cell_type": "markdown",
      "source": [
        "Output Variable"
      ],
      "metadata": {
        "id": "0dhRHvNJK69h"
      }
    },
    {
      "cell_type": "code",
      "source": [
        "o= \" is fun\"\n",
        "#append is enjoying\n",
        "print(\"Python programming\"+\"\"+o)   #use another + to put apace"
      ],
      "metadata": {
        "colab": {
          "base_uri": "https://localhost:8080/"
        },
        "id": "J9phs22SLBgw",
        "outputId": "05efdf50-e553-4baf-b10d-adedc75c579e"
      },
      "execution_count": 10,
      "outputs": [
        {
          "output_type": "stream",
          "name": "stdout",
          "text": [
            "Python programming is fun\n"
          ]
        }
      ]
    },
    {
      "cell_type": "markdown",
      "source": [
        "Other way:"
      ],
      "metadata": {
        "id": "3gPOsVbKLyYJ"
      }
    },
    {
      "cell_type": "code",
      "source": [
        "o= \"fun\"\n",
        "t= \"Python is \"\n",
        "z= t + o\n",
        "print(z)"
      ],
      "metadata": {
        "colab": {
          "base_uri": "https://localhost:8080/"
        },
        "id": "hSa7Rk_AL1g9",
        "outputId": "6849a476-2465-48fc-b475-154402b2d589"
      },
      "execution_count": 12,
      "outputs": [
        {
          "output_type": "stream",
          "name": "stdout",
          "text": [
            "Python is fun\n"
          ]
        }
      ]
    },
    {
      "cell_type": "markdown",
      "source": [],
      "metadata": {
        "id": "QIkrmNsoCrWr"
      }
    }
  ]
}