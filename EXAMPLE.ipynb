{
  "nbformat": 4,
  "nbformat_minor": 0,
  "metadata": {
    "colab": {
      "provenance": [],
      "authorship_tag": "ABX9TyPF3MsZjBM5Hcdk7hMU4V3R",
      "include_colab_link": true
    },
    "kernelspec": {
      "name": "python3",
      "display_name": "Python 3"
    },
    "language_info": {
      "name": "python"
    }
  },
  "cells": [
    {
      "cell_type": "markdown",
      "metadata": {
        "id": "view-in-github",
        "colab_type": "text"
      },
      "source": [
        "<a href=\"https://colab.research.google.com/github/CastilloKarlHarold/CPEN21A-PLD-1-1/blob/main/EXAMPLE.ipynb\" target=\"_parent\"><img src=\"https://colab.research.google.com/assets/colab-badge.svg\" alt=\"Open In Colab\"/></a>"
      ]
    },
    {
      "cell_type": "code",
      "execution_count": 1,
      "metadata": {
        "colab": {
          "base_uri": "https://localhost:8080/"
        },
        "id": "VgFZrBePYgJp",
        "outputId": "987c1dbd-1ef7-444e-e7f3-05b62a883fba"
      },
      "outputs": [
        {
          "output_type": "stream",
          "name": "stdout",
          "text": [
            "Choose rock (r), paper (p), or scissors (s): r\n",
            "You chose r. The computer chose r.\n",
            "It's a tie!\n",
            "Choose rock (r), paper (p), or scissors (s): p\n",
            "You chose p. The computer chose r.\n",
            "You win!\n",
            "Choose rock (r), paper (p), or scissors (s): p\n",
            "You chose p. The computer chose s.\n",
            "The computer wins.\n",
            "Choose rock (r), paper (p), or scissors (s): r\n",
            "You chose r. The computer chose s.\n",
            "You win!\n",
            "Choose rock (r), paper (p), or scissors (s): p\n",
            "You chose p. The computer chose r.\n",
            "You win!\n",
            "Congratulations, you win the game!\n"
          ]
        }
      ],
      "source": [
        "import random\n",
        "\n",
        "def get_player_choice():\n",
        "    player_choice = input(\"Choose rock (r), paper (p), or scissors (s): \")\n",
        "    while player_choice not in ('r', 'p', 's'):\n",
        "        player_choice = input(\"Invalid choice. Choose rock (r), paper (p), or scissors (s): \")\n",
        "    return player_choice\n",
        "\n",
        "def get_computer_choice():\n",
        "    computer_choice = random.choice(('r', 'p', 's'))\n",
        "    return computer_choice\n",
        "\n",
        "def determine_winner(player_choice, computer_choice):\n",
        "    if player_choice == computer_choice:\n",
        "        return \"tie\"\n",
        "    elif (player_choice == 'r' and computer_choice == 's') or (player_choice == 'p' and computer_choice == 'r') or (player_choice == 's' and computer_choice == 'p'):\n",
        "        return \"player\"\n",
        "    else:\n",
        "        return \"computer\"\n",
        "\n",
        "def play_game():\n",
        "    player_score = 0\n",
        "    computer_score = 0\n",
        "\n",
        "    while player_score < 3 and computer_score < 3:\n",
        "        player_choice = get_player_choice()\n",
        "        computer_choice = get_computer_choice()\n",
        "        print(f\"You chose {player_choice}. The computer chose {computer_choice}.\")\n",
        "        winner = determine_winner(player_choice, computer_choice)\n",
        "        if winner == \"tie\":\n",
        "            print(\"It's a tie!\")\n",
        "        elif winner == \"player\":\n",
        "            print(\"You win!\")\n",
        "            player_score += 1\n",
        "        else:\n",
        "            print(\"The computer wins.\")\n",
        "            computer_score += 1\n",
        "\n",
        "    if player_score > computer_score:\n",
        "        print(\"Congratulations, you win the game!\")\n",
        "    else:\n",
        "        print(\"Sorry, the computer wins the game.\")\n",
        "\n",
        "play_game()s\n"
      ]
    },
    {
      "cell_type": "code",
      "source": [
        "import random\n",
        "\n",
        "def play_game():\n",
        "    player_money = 100\n",
        "    while player_money > 0 and player_money < 200:\n",
        "        guess = input(\"Guess heads or tails: \")\n",
        "        if guess.lower() not in ['heads', 'tails']:\n",
        "            print(\"Invalid guess. Please enter heads or tails.\")\n",
        "            continue\n",
        "        flip = random.choice(['heads', 'tails'])\n",
        "        print(f\"The coin flip is {flip}.\")\n",
        "        if guess.lower() == flip:\n",
        "            player_money += 9\n",
        "            print(f\"Correct! You won $9. Your balance is now ${player_money}.\")\n",
        "        else:\n",
        "            player_money -= 10\n",
        "            print(f\"Incorrect. You lost $10. Your balance is now ${player_money}.\")\n",
        "    if player_money >= 200:\n",
        "        print(\"Congratulations, you won!\")\n",
        "    else:\n",
        "        print(\"Sorry, you ran out of money.\")\n",
        "\n",
        "play_game()"
      ],
      "metadata": {
        "id": "OFnLcA0Wp8bN"
      },
      "execution_count": null,
      "outputs": []
    },
    {
      "cell_type": "code",
      "source": [
        "import random\n",
        "\n",
        "def main():\n",
        "    CountryList = ['india', 'canada', 'germany', 'england', 'australia', 'italy', 'ukraine']\n",
        "    choice = random.choice(CountryList)\n",
        "    print(f\"The country name has {len(choice)} letters.\")\n",
        "    guessed_letters = []\n",
        "    wrong_guesses = 0\n",
        "    while wrong_guesses < 5 and len(guessed_letters) < len(set(choice)):\n",
        "        display_choice = \"\"\n",
        "        for letter in choice:\n",
        "            if letter in guessed_letters:\n",
        "                display_choice += letter\n",
        "            else:\n",
        "                display_choice += \"-\"\n",
        "        print(display_choice)\n",
        "        guess = input(\"Guess a letter: \")\n",
        "        if guess in guessed_letters:\n",
        "            print(\"You already guessed that letter.\")\n",
        "        elif guess in choice:\n",
        "            print(\"Correct!\")\n",
        "            guessed_letters.append(guess)\n",
        "        else:\n",
        "            print(\"Incorrect.\")\n",
        "            wrong_guesses += 1\n",
        "    if wrong_guesses == 5:\n",
        "        print(f\"Sorry, you lost. The country name was {choice}.\")\n",
        "    else:\n",
        "        print(f\"Congratulations, you guessed the country name {choice}!\")\n",
        "\n",
        "main()"
      ],
      "metadata": {
        "id": "8YN1Nvj9qSWq"
      },
      "execution_count": null,
      "outputs": []
    },
    {
      "cell_type": "code",
      "source": [
        "def poundsToMetric(weight_pounds):\n",
        "    weight_kg = weight_pounds / 2.2\n",
        "    weight_grams = int((weight_kg - int(weight_kg)) * 1000)\n",
        "    weight_kg = int(weight_kg)\n",
        "    return f\"{weight_kg} kilograms and {weight_grams} grams\"\n",
        "\n",
        "    while True:\n",
        "        weight_kg = float(input(\"Enter weight in kilograms: \"))\n",
        "        if weight_kg < 0:\n",
        "            print(\"Invalid entry, weight must be non-negative.\")\n",
        "        else:\n",
        "            weight_lb = weight_kg * 2.20462\n",
        "        print(f\"{weight_kg} kilograms is {weight_lb} pounds.\")\n",
        "        break"
      ],
      "metadata": {
        "id": "ujgL2sm5qvKv"
      },
      "execution_count": 7,
      "outputs": []
    },
    {
      "cell_type": "code",
      "source": [
        "password = \"secret\"\n",
        "tries = 5\n",
        "\n",
        "while tries > 0:\n",
        "    input_password = input(\"Enter password: \")\n",
        "    if input_password == password:\n",
        "        print(\"You are now logged in.\")\n",
        "        break\n",
        "    else:\n",
        "        tries -= 1\n",
        "        print(f\"Wrong password. You have {tries} tries left.\")\n",
        "        if tries == 0:\n",
        "            print(\"You have been kicked off the system.\")"
      ],
      "metadata": {
        "colab": {
          "base_uri": "https://localhost:8080/"
        },
        "id": "pHRQJTHArtiq",
        "outputId": "09e213c8-165b-493d-a1aa-e4989829f9ae"
      },
      "execution_count": 8,
      "outputs": [
        {
          "output_type": "stream",
          "name": "stdout",
          "text": [
            "Enter password: harold\n",
            "Wrong password. You have 4 tries left.\n",
            "Enter password: secret\n",
            "You are now logged in.\n"
          ]
        }
      ]
    },
    {
      "cell_type": "code",
      "source": [
        "scores = []\n",
        "num_a = 0\n",
        "total = 0\n",
        "while True:\n",
        "    score = int(input(\"Enter a test score: \"))\n",
        "    if score < 0:\n",
        "        break\n",
        "    elif score >= 90:\n",
        "        num_a += 1\n",
        "    scores.append(score)\n",
        "\n",
        "if scores: # check if scores list is not empty\n",
        "    average = sum(scores) / len(scores)\n",
        "    print(f\"Number of A's: {num_a}\")\n",
        "    print(f\"Average score: {average:.2f}\")\n",
        "else:\n",
        "    print(\"No scores entered.\")"
      ],
      "metadata": {
        "id": "M1XP1nqbstgL"
      },
      "execution_count": null,
      "outputs": []
    },
    {
      "cell_type": "code",
      "source": [
        "import random\n",
        "\n",
        "min_num = 1\n",
        "max_num = 100\n",
        "num_guesses = 0\n",
        "\n",
        "while True:\n",
        "    secret_num = random.randint(min_num, max_num)\n",
        "    print(f\"I'm thinking of a number between {min_num} and {max_num}.\")\n",
        "    while True:\n",
        "        guess = int(input(\"What's your guess? \"))\n",
        "        num_guesses += 1\n",
        "        if guess == secret_num:\n",
        "            print(f\"Congrats! You guessed the number in {num_guesses} guesses.\")\n",
        "            break\n",
        "        elif guess < secret_num:\n",
        "            print(\"Too low!\")\n",
        "            adjust_range = input(\"Do you want a new range (higher/lower)? \")\n",
        "            if adjust_range == \"higher\":\n",
        "                min_num = guess + 1\n",
        "            elif adjust_range == \"lower\":\n",
        "                max_num = guess - 1\n",
        "        elif guess > secret_num:\n",
        "            print(\"Too high!\")\n",
        "            adjust_range = input(\"Do you want a new range (higher/lower)? \")\n",
        "            if adjust_range == \"higher\":\n",
        "                min_num = guess + 1\n",
        "            elif adjust_range == \"lower\":\n",
        "                max_num = guess - 1\n",
        "        if max_num == min_num:\n",
        "            print(f\"You have only one guess left.\")\n",
        "        elif max_num == min_num + 1:\n",
        "            print(f\"You have only two guesses left.\")"
      ],
      "metadata": {
        "id": "JVlGg6Uusuq6"
      },
      "execution_count": null,
      "outputs": []
    },
    {
      "cell_type": "code",
      "source": [
        "def main():\n",
        "    # Get user input for list\n",
        "    myList = []\n",
        "    for i in range(7):\n",
        "        num = int(input(f\"Enter 0 or 1 for element {i}: \"))\n",
        "        myList.append(num)\n",
        "    \n",
        "    # Find first non-zero entry and change it to 1\n",
        "    for i in range(len(myList)):\n",
        "        if myList[i] != 0:\n",
        "            myList[i] = 1\n",
        "            break\n",
        "        \n",
        "    else:\n",
        "        # This else block is only executed if the loop\n",
        "        # completes normally without encountering a break\n",
        "        print(\"There are no non-zero entries in the list.\")\n",
        "        return\n",
        "    \n",
        "    # Print resulting list\n",
        "    print(myList)\n",
        "\n",
        "main()"
      ],
      "metadata": {
        "id": "hP5eXyqtsych"
      },
      "execution_count": null,
      "outputs": []
    },
    {
      "cell_type": "code",
      "source": [
        "import random\n",
        "\n",
        "def main():\n",
        "    # Create a 5x5 list of zeroes\n",
        "    matrix = [[0 for j in range(5)] for i in range(5)]\n",
        "    \n",
        "    # Choose 10 random coordinates and set their values to 1\n",
        "    for i in range(10):\n",
        "        row = random.randint(0, 4)\n",
        "        col = random.randint(0, 4)\n",
        "        matrix[row][col] = 1\n",
        "    \n",
        "    # Print the resulting matrix\n",
        "    for row in matrix:\n",
        "        print(row)\n",
        "\n",
        "main()"
      ],
      "metadata": {
        "id": "r0n1fRmztCVW"
      },
      "execution_count": null,
      "outputs": []
    },
    {
      "cell_type": "code",
      "source": [
        "import random\n",
        "\n",
        "# Create a 6x6 list of zeroes\n",
        "matrix = [[0 for j in range(6)] for i in range(6)]\n",
        "\n",
        "# Choose 12 random coordinates and set their values to 1\n",
        "indices = [(i, j) for i in range(6) for j in range(6)]\n",
        "random.shuffle(indices)\n",
        "for i, j in indices[:12]:\n",
        "    matrix[i][j] = 1\n",
        "\n",
        "# Print the resulting matrix\n",
        "for row in matrix:\n",
        "    print(row)"
      ],
      "metadata": {
        "id": "dplPUYSdtZQr"
      },
      "execution_count": null,
      "outputs": []
    },
    {
      "cell_type": "code",
      "source": [
        "import random\n",
        "\n",
        "# Create a 9x9 list of zeros\n",
        "matrix = [[0 for j in range(9)] for i in range(9)]\n",
        "\n",
        "# Fill the rows with random 1-9 integers with no repeats\n",
        "for i in range(9):\n",
        "    row = [j for j in range(1, 10)]\n",
        "    random.shuffle(row)\n",
        "    matrix[i] = row\n",
        "\n",
        "# Transpose the list to fill the columns with random 1-9 integers with no repeats\n",
        "for j in range(9):\n",
        "    col = [matrix[i][j] for i in range(9)]\n",
        "    random.shuffle(col)\n",
        "    for i in range(9):\n",
        "        matrix[i][j] = col[i]\n",
        "\n",
        "# Print the resulting matrix\n",
        "for row in matrix:\n",
        "    print(row)"
      ],
      "metadata": {
        "id": "i1skxsK8tpvi"
      },
      "execution_count": null,
      "outputs": []
    }
  ]
}