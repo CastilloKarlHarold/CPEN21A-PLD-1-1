{
  "nbformat": 4,
  "nbformat_minor": 0,
  "metadata": {
    "colab": {
      "provenance": [],
      "authorship_tag": "ABX9TyPwUnW9pexNdAKuqWS7hBm7",
      "include_colab_link": true
    },
    "kernelspec": {
      "name": "python3",
      "display_name": "Python 3"
    },
    "language_info": {
      "name": "python"
    }
  },
  "cells": [
    {
      "cell_type": "markdown",
      "metadata": {
        "id": "view-in-github",
        "colab_type": "text"
      },
      "source": [
        "<a href=\"https://colab.research.google.com/github/CastilloKarlHarold/CPEN21A-PLD-1-1/blob/main/Python_Lists%2C_Tuples%2C_Sets%2C_and_Dictionaries.ipynb\" target=\"_parent\"><img src=\"https://colab.research.google.com/assets/colab-badge.svg\" alt=\"Open In Colab\"/></a>"
      ]
    },
    {
      "cell_type": "code",
      "source": [
        "#Application 1\n",
        "#write a python program that computes for the area and perimeter of a rectangle\n",
        "#Use the shape as parent class\n",
        "#Use area() and perimeter() as methods with its attributes length and with\n",
        "#Use rectangle as child class\n",
        "\n",
        "class Shape:\n",
        "    def __init__(self, length, width):\n",
        "        self.length = length\n",
        "        self.width = width\n",
        "        \n",
        "    def display(self):\n",
        "        print (\"Length of Rectangle is: \", self.length)\n",
        "        print (\"width of Rectangle is: \", self.width)\n",
        "        \n",
        "    def area(self):\n",
        "        return (self.length*self.width)\n",
        "    \n",
        "    def perimeter(self):\n",
        "        return (2*self.length + 2*self.width)\n",
        "\n",
        "class Rectangle(Shape):\n",
        "    pass\n",
        "\n",
        "r1 = Shape(10,5)\n",
        "r2 = Rectangle(10,5)\n",
        "\n",
        "print (\"Rectangle object details are:\")\n",
        "r1.display()\n",
        "print(\"\")\n",
        "print (\"Area of Rectangle is: \", r1.area())\n",
        "print(\"\")\n",
        "print (\"The Perimeter of the Rectangle is: \", r1.perimeter())\n",
        "\n",
        "print (\"Rectangle object details are:\")\n",
        "r2.display()\n",
        "print(\"\")\n",
        "print (\"Area of Rectangle is: \", r2.area())\n",
        "print(\"\")\n",
        "print (\"The Perimeter of the Rectangle is: \", r2.perimeter())"
      ],
      "metadata": {
        "colab": {
          "base_uri": "https://localhost:8080/"
        },
        "id": "NSm595ZYqpCv",
        "outputId": "6ef0db3a-dbf2-4b6a-8a5d-b8172f509bb7"
      },
      "execution_count": 8,
      "outputs": [
        {
          "output_type": "stream",
          "name": "stdout",
          "text": [
            "Rectangle object details are:\n",
            "Length of Rectangle is:  10\n",
            "width of Rectangle is:  5\n",
            "\n",
            "Area of Rectangle is:  50\n",
            "\n",
            "The Perimeter of the Rectangle is:  30\n",
            "Rectangle object details are:\n",
            "Length of Rectangle is:  10\n",
            "width of Rectangle is:  5\n",
            "\n",
            "Area of Rectangle is:  50\n",
            "\n",
            "The Perimeter of the Rectangle is:  30\n"
          ]
        }
      ]
    },
    {
      "cell_type": "code",
      "source": [
        "#Application 2\n",
        "#Write a Python that:\n",
        "#Use Shape as parent class name\n",
        "#Use Square as child class that inherits the attributes of the parent class\n",
        "#Use Area () and Perimeter () as methods to retrieve its values by assigning the instance of the object\n",
        "\n",
        "class Shape:\n",
        "    def __init__(self, side):\n",
        "        self.side = side\n",
        "        \n",
        "    def display(self):\n",
        "        print (\"Length of Square is: \", self.side)\n",
        "        print (\"width of Square is: \", self.side)\n",
        "        \n",
        "    def area(self):\n",
        "        return (2**self.side)\n",
        "    \n",
        "    def perimeter(self):\n",
        "        return (4*self.side)\n",
        "\n",
        "class Square(Shape):\n",
        "    pass\n",
        "\n",
        "s1 = Shape(4)\n",
        "s2 = Square(4)\n",
        "\n",
        "print (\"Square object details are:\")\n",
        "s1.display()\n",
        "print(\"\")\n",
        "print (\"Area of Square is: \", s1.area())\n",
        "print(\"\")\n",
        "print (\"The Perimeter of the Square is: \", s1.perimeter())\n",
        "\n",
        "print (\"Square object details are:\")\n",
        "s2.display()\n",
        "print(\"\")\n",
        "print (\"Area of Square is: \", s2.area())\n",
        "print(\"\")\n",
        "print (\"The Perimeter of the Square is: \", s2.perimeter())\n",
        "\n"
      ],
      "metadata": {
        "colab": {
          "base_uri": "https://localhost:8080/"
        },
        "id": "HNRqN1sb2MdQ",
        "outputId": "c919d215-54a4-4832-c917-1b02ce57b462"
      },
      "execution_count": 14,
      "outputs": [
        {
          "output_type": "stream",
          "name": "stdout",
          "text": [
            "Square object details are:\n",
            "Length of Square is:  4\n",
            "width of Square is:  4\n",
            "\n",
            "Area of Square is:  16\n",
            "\n",
            "The Perimeter of the Square is:  16\n",
            "Square object details are:\n",
            "Length of Square is:  4\n",
            "width of Square is:  4\n",
            "\n",
            "Area of Square is:  16\n",
            "\n",
            "The Perimeter of the Square is:  16\n"
          ]
        }
      ]
    }
  ]
}