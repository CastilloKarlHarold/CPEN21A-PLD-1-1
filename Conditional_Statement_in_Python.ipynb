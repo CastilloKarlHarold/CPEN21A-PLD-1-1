{
  "nbformat": 4,
  "nbformat_minor": 0,
  "metadata": {
    "colab": {
      "provenance": [],
      "authorship_tag": "ABX9TyNNcfiKIHpnCf11u6UFL8vS",
      "include_colab_link": true
    },
    "kernelspec": {
      "name": "python3",
      "display_name": "Python 3"
    },
    "language_info": {
      "name": "python"
    }
  },
  "cells": [
    {
      "cell_type": "markdown",
      "metadata": {
        "id": "view-in-github",
        "colab_type": "text"
      },
      "source": [
        "<a href=\"https://colab.research.google.com/github/CastilloKarlHarold/CPEN21A-PLD-1-1/blob/main/Conditional_Statement_in_Python.ipynb\" target=\"_parent\"><img src=\"https://colab.research.google.com/assets/colab-badge.svg\" alt=\"Open In Colab\"/></a>"
      ]
    },
    {
      "cell_type": "markdown",
      "source": [
        "##Example 1\n",
        "Write a program that determines if the input age\n",
        "is qualified to vote or not. The qualifying age is\n",
        "18 years old and above."
      ],
      "metadata": {
        "id": "XMRsJViw_hcq"
      }
    },
    {
      "cell_type": "code",
      "source": [
        "age =int(input(\"Enter age: \"))\n",
        "\n",
        "if age >= 18:\n",
        "  print(\"Qualified to Vote\")\n",
        "else:\n",
        "  print(\"Not Qualified to Vote\")"
      ],
      "metadata": {
        "colab": {
          "base_uri": "https://localhost:8080/"
        },
        "id": "dTW2hSGLHVCL",
        "outputId": "60cc23e0-622a-4754-ebf1-e8c76eb3b6dd"
      },
      "execution_count": 10,
      "outputs": [
        {
          "output_type": "stream",
          "name": "stdout",
          "text": [
            "Enter age: 17\n",
            "Not Qualified to Vote\n"
          ]
        }
      ]
    },
    {
      "cell_type": "code",
      "source": [
        "age =int(input(\"Enter age: \"))\n",
        "\n",
        "if age >= 18:\n",
        "  print(\"Qualified to Vote\")\n",
        "else:\n",
        "  print(\"Not Qualified to Vote\")"
      ],
      "metadata": {
        "colab": {
          "base_uri": "https://localhost:8080/"
        },
        "id": "76HT5YT1JPk5",
        "outputId": "1e559a51-5fca-45de-ecaa-5c70d8027358"
      },
      "execution_count": 5,
      "outputs": [
        {
          "output_type": "stream",
          "name": "stdout",
          "text": [
            "Enter age: 19\n",
            "Qualified to Vote\n"
          ]
        }
      ]
    },
    {
      "cell_type": "markdown",
      "source": [
        "##Example 2\n",
        "Write a program that determines if the input\n",
        "number is POSITIVE, NEGATIVE, or ZERO"
      ],
      "metadata": {
        "id": "UCBSbQckIPTZ"
      }
    },
    {
      "cell_type": "code",
      "source": [
        "num = float(input(\"Input a number: \"))\n",
        "\n",
        "if num > 0:\n",
        "   print(\"It is positive number\")\n",
        "elif num == 0:\n",
        "   print(\"It is Zero\")\n",
        "else:\n",
        "   print(\"It is a negative number\")"
      ],
      "metadata": {
        "colab": {
          "base_uri": "https://localhost:8080/"
        },
        "id": "xUUAx5f6IZMI",
        "outputId": "ab0f0a25-6c27-44ec-a513-9c09912773a7"
      },
      "execution_count": 4,
      "outputs": [
        {
          "output_type": "stream",
          "name": "stdout",
          "text": [
            "Input a number: 5\n",
            "It is positive number\n"
          ]
        }
      ]
    },
    {
      "cell_type": "code",
      "source": [
        "num = float(input(\"Input a number: \"))\n",
        "\n",
        "if num > 0:\n",
        "   print(\"It is positive number\")\n",
        "elif num == 0:\n",
        "   print(\"It is Zero\")\n",
        "else:\n",
        "   print(\"It is a negative number\")"
      ],
      "metadata": {
        "colab": {
          "base_uri": "https://localhost:8080/"
        },
        "id": "kiVMC2zFJZG7",
        "outputId": "a9f5ab55-23c0-4bfb-f7ae-e9b5b14d3009"
      },
      "execution_count": 6,
      "outputs": [
        {
          "output_type": "stream",
          "name": "stdout",
          "text": [
            "Input a number: 0\n",
            "It is Zero\n"
          ]
        }
      ]
    },
    {
      "cell_type": "code",
      "source": [
        "num = float(input(\"Input a number: \"))\n",
        "\n",
        "if num > 0:\n",
        "   print(\"It is positive number\")\n",
        "elif num == 0:\n",
        "   print(\"It is Zero\")\n",
        "else:\n",
        "   print(\"It is a negative number\")"
      ],
      "metadata": {
        "colab": {
          "base_uri": "https://localhost:8080/"
        },
        "id": "M7D3l2XrJiOi",
        "outputId": "ff00ebe6-9b31-474f-c831-4e2b6854993a"
      },
      "execution_count": 7,
      "outputs": [
        {
          "output_type": "stream",
          "name": "stdout",
          "text": [
            "Input a number: -2\n",
            "It is a negative number\n"
          ]
        }
      ]
    },
    {
      "cell_type": "markdown",
      "source": [
        "##Example 3\n",
        "Write a program to determine if the grades are passed, remedial or failed."
      ],
      "metadata": {
        "id": "roYhoPvjKFzu"
      }
    },
    {
      "cell_type": "code",
      "source": [
        "num = float(input(\"Input a number: \"))\n",
        "\n",
        "if num > 75:\n",
        "   print(\"Passed\")\n",
        "elif num == 74:\n",
        "   print(\"Remedial\")\n",
        "else:\n",
        "   print(\"Failed\")"
      ],
      "metadata": {
        "colab": {
          "base_uri": "https://localhost:8080/"
        },
        "id": "j0W6BZm8KZT6",
        "outputId": "dae05600-4fc9-43da-da31-8e59e6e36c8a"
      },
      "execution_count": 11,
      "outputs": [
        {
          "output_type": "stream",
          "name": "stdout",
          "text": [
            "Input a number: 80\n",
            "Passed\n"
          ]
        }
      ]
    },
    {
      "cell_type": "code",
      "source": [
        "num = float(input(\"Input a number: \"))\n",
        "\n",
        "if num > 75:\n",
        "   print(\"Passed\")\n",
        "elif num == 74:\n",
        "   print(\"Remedial\")\n",
        "else:\n",
        "   print(\"Failed\")"
      ],
      "metadata": {
        "colab": {
          "base_uri": "https://localhost:8080/"
        },
        "id": "oKFsu8dgLXoq",
        "outputId": "58b0900d-27b3-4244-eb10-157accfb6cdd"
      },
      "execution_count": 12,
      "outputs": [
        {
          "output_type": "stream",
          "name": "stdout",
          "text": [
            "Input a number: 74\n",
            "Remedial\n"
          ]
        }
      ]
    },
    {
      "cell_type": "code",
      "source": [
        "num = float(input(\"Input a number: \"))\n",
        "\n",
        "if num > 75:\n",
        "   print(\"Passed\")\n",
        "elif num == 74:\n",
        "   print(\"Remedial\")\n",
        "else:\n",
        "   print(\"Failed\")"
      ],
      "metadata": {
        "colab": {
          "base_uri": "https://localhost:8080/"
        },
        "id": "_Tx5Mo_9LcSW",
        "outputId": "51695916-151c-4790-9c90-3a9fc0a8833e"
      },
      "execution_count": 13,
      "outputs": [
        {
          "output_type": "stream",
          "name": "stdout",
          "text": [
            "Input a number: 70\n",
            "Failed\n"
          ]
        }
      ]
    }
  ]
}