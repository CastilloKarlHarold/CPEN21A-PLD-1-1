{
  "nbformat": 4,
  "nbformat_minor": 0,
  "metadata": {
    "colab": {
      "provenance": [],
      "authorship_tag": "ABX9TyNxpBGqQY8a6tSf5cZSuasU",
      "include_colab_link": true
    },
    "kernelspec": {
      "name": "python3",
      "display_name": "Python 3"
    },
    "language_info": {
      "name": "python"
    }
  },
  "cells": [
    {
      "cell_type": "markdown",
      "metadata": {
        "id": "view-in-github",
        "colab_type": "text"
      },
      "source": [
        "<a href=\"https://colab.research.google.com/github/CastilloKarlHarold/CPEN21A-PLD-1-1/blob/main/Lab_Activity_1.ipynb\" target=\"_parent\"><img src=\"https://colab.research.google.com/assets/colab-badge.svg\" alt=\"Open In Colab\"/></a>"
      ]
    },
    {
      "cell_type": "code",
      "execution_count": 2,
      "metadata": {
        "colab": {
          "base_uri": "https://localhost:8080/"
        },
        "id": "DJjg4uhJAQjZ",
        "outputId": "798f0b47-d547-45be-da30-43bd07a8e7ec"
      },
      "outputs": [
        {
          "output_type": "stream",
          "name": "stdout",
          "text": [
            "sum 210\n",
            "average: 10.5\n"
          ]
        }
      ],
      "source": [
        "#PROBLEM 1\n",
        "\n",
        "n = 20\n",
        "totalnumbers = n\n",
        "sum = 0\n",
        "average = 0\n",
        "\n",
        "while n >= 0:\n",
        "  sum += n\n",
        "  n -= 1\n",
        "\n",
        "print('sum', sum)\n",
        "\n",
        "average = sum/totalnumbers\n",
        "\n",
        "print(\"average:\", average)"
      ]
    },
    {
      "cell_type": "code",
      "source": [
        "#PROBLEM 2\n",
        "\n",
        "class student:\n",
        "  def student_details():\n",
        "    name, age = \"Karl Harold Faderon Castillo\", 19\n",
        "    studentnumber = \"202201719\"\n",
        "    school = \"Cavite State University-Main Campus\"\n",
        "    course = \"BS Computer Engineering\"\n",
        "    print(\"name: {}\\nage: {}\\nstudentnumber: {}\\nschool: {}\\course: {}\"\n",
        "    .format(name, age, studentnumber, school, course))\n",
        "\n",
        "  student_details() "
      ],
      "metadata": {
        "colab": {
          "base_uri": "https://localhost:8080/"
        },
        "id": "xCqnWB8LBHqr",
        "outputId": "49e53469-4fc2-4442-b841-a1d15239d86f"
      },
      "execution_count": 8,
      "outputs": [
        {
          "output_type": "stream",
          "name": "stdout",
          "text": [
            "name: Karl Harold Faderon Castillo\n",
            "age: 19\n",
            "studentnumber: 202201719\n",
            "school: Cavite State University-Main Campus\\course: BS Computer Engineering\n"
          ]
        }
      ]
    }
  ]
}