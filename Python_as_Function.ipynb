{
  "nbformat": 4,
  "nbformat_minor": 0,
  "metadata": {
    "colab": {
      "provenance": [],
      "authorship_tag": "ABX9TyPnH3dDBFEN4tl++BGWnmrn",
      "include_colab_link": true
    },
    "kernelspec": {
      "name": "python3",
      "display_name": "Python 3"
    },
    "language_info": {
      "name": "python"
    }
  },
  "cells": [
    {
      "cell_type": "markdown",
      "metadata": {
        "id": "view-in-github",
        "colab_type": "text"
      },
      "source": [
        "<a href=\"https://colab.research.google.com/github/CastilloKarlHarold/CPEN21A-PLD-1-1/blob/main/Python_as_Function.ipynb\" target=\"_parent\"><img src=\"https://colab.research.google.com/assets/colab-badge.svg\" alt=\"Open In Colab\"/></a>"
      ]
    },
    {
      "cell_type": "code",
      "execution_count": null,
      "metadata": {
        "colab": {
          "base_uri": "https://localhost:8080/"
        },
        "id": "WY9zQxTzbm-q",
        "outputId": "ff0886b7-4952-43fe-ab79-dfa903d8ea5f"
      },
      "outputs": [
        {
          "output_type": "execute_result",
          "data": {
            "text/plain": [
              "4.5"
            ]
          },
          "metadata": {},
          "execution_count": 1
        }
      ],
      "source": [
        "#Function Calls\n",
        "\n",
        "abs(-4.5)\n"
      ]
    },
    {
      "cell_type": "code",
      "source": [
        "#Function Calls other Function\n",
        "\n",
        "pow(abs(-2),round(4.5))  #pow(2,4)\n"
      ],
      "metadata": {
        "colab": {
          "base_uri": "https://localhost:8080/"
        },
        "id": "OppG4RjVjejY",
        "outputId": "7853e714-ce20-49f7-a2d0-41091ae549c0"
      },
      "execution_count": null,
      "outputs": [
        {
          "output_type": "execute_result",
          "data": {
            "text/plain": [
              "16"
            ]
          },
          "metadata": {},
          "execution_count": 2
        }
      ]
    },
    {
      "cell_type": "code",
      "source": [
        "#Type Code Function\n",
        "\n",
        "int(4.5)\n",
        "float(4)"
      ],
      "metadata": {
        "colab": {
          "base_uri": "https://localhost:8080/"
        },
        "id": "oyJCpcKHkbr1",
        "outputId": "5f3e712a-21ff-4e1d-b80e-c150db068e67"
      },
      "execution_count": null,
      "outputs": [
        {
          "output_type": "execute_result",
          "data": {
            "text/plain": [
              "4.0"
            ]
          },
          "metadata": {},
          "execution_count": 5
        }
      ]
    },
    {
      "cell_type": "code",
      "source": [
        "#Defining Own Function\n",
        "\n",
        "def convert_to_celcius(fahrenheit):\n",
        "  celcius = (fahrenheit-32)*5/9\n",
        "  return celcius \n",
        "\n",
        "fahrenheit = float(input(\"Enter a number in fahrenheit:\"))\n",
        "\n",
        "f=convert_to_celcius(fahrenheit)\n",
        "print(round(f,2))\n"
      ],
      "metadata": {
        "colab": {
          "base_uri": "https://localhost:8080/"
        },
        "id": "0ir3IYEPlGZl",
        "outputId": "cf133d56-e5ee-48ad-be54-c48dd86e4094"
      },
      "execution_count": null,
      "outputs": [
        {
          "output_type": "stream",
          "name": "stdout",
          "text": [
            "Enter a number in fahrenheit:100\n",
            "37.78\n"
          ]
        }
      ]
    },
    {
      "cell_type": "markdown",
      "source": [
        "##Exercises\n",
        "\n",
        "#a. min(2,3,4)\n"
      ],
      "metadata": {
        "id": "Omf5g7q2IiRk"
      }
    },
    {
      "cell_type": "code",
      "source": [
        "num = [2,3,4]\n",
        "\n",
        "#using min() function\n",
        "min_num = min(num)\n",
        "print(\"Minimun number in the list is:\", min_num)\n"
      ],
      "metadata": {
        "id": "ZfNRwzSfIoGh",
        "colab": {
          "base_uri": "https://localhost:8080/"
        },
        "outputId": "ebc394d6-a0f4-436b-9d18-566c07d851ae"
      },
      "execution_count": 1,
      "outputs": [
        {
          "output_type": "stream",
          "name": "stdout",
          "text": [
            "Minimun number in the list is: 2\n"
          ]
        }
      ]
    },
    {
      "cell_type": "markdown",
      "source": [
        "##b. max(2,-3,4,7,-5)\n"
      ],
      "metadata": {
        "id": "gyTrb1Njle-Y"
      }
    },
    {
      "cell_type": "code",
      "source": [
        "num = {2,-3,4,7,-5}\n",
        "\n",
        "#using max() function\n",
        "max_num = max(num)\n",
        "print(\"Maximum number in the list is:\", max_num)"
      ],
      "metadata": {
        "colab": {
          "base_uri": "https://localhost:8080/"
        },
        "id": "5D0xKesxlupF",
        "outputId": "4de1b19f-81c5-47f0-e103-7d67c696771c"
      },
      "execution_count": 2,
      "outputs": [
        {
          "output_type": "stream",
          "name": "stdout",
          "text": [
            "Maximum number in the list is: 7\n"
          ]
        }
      ]
    },
    {
      "cell_type": "markdown",
      "source": [
        "##c. max(2,-3, min(4,7),-5)"
      ],
      "metadata": {
        "id": "AMrRH-0omii2"
      }
    },
    {
      "cell_type": "code",
      "source": [
        "num = {2,-3,4,7,-5}\n",
        "if min_num: num = [4,7]\n",
        "\n",
        "#using max() function\n",
        "max_num = max(num)\n",
        "min_num = min(num)\n",
        "print(\"Maximum number in the list is:\", max_num)\n",
        "print(\"Minimum number in the list is:\", min_num)"
      ],
      "metadata": {
        "colab": {
          "base_uri": "https://localhost:8080/"
        },
        "id": "0nI5I4u2udOh",
        "outputId": "69065a07-dc1d-4b61-b262-5cd97c65fe0f"
      },
      "execution_count": 10,
      "outputs": [
        {
          "output_type": "stream",
          "name": "stdout",
          "text": [
            "Maximum number in the list is: 7\n",
            "Minimum number in the list is: 4\n"
          ]
        }
      ]
    }
  ]
}