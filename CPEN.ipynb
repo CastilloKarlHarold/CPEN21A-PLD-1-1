{
  "nbformat": 4,
  "nbformat_minor": 0,
  "metadata": {
    "colab": {
      "provenance": [],
      "authorship_tag": "ABX9TyMa2iGoG2V4Faq1WJb9SO5I",
      "include_colab_link": true
    },
    "kernelspec": {
      "name": "python3",
      "display_name": "Python 3"
    },
    "language_info": {
      "name": "python"
    }
  },
  "cells": [
    {
      "cell_type": "markdown",
      "metadata": {
        "id": "view-in-github",
        "colab_type": "text"
      },
      "source": [
        "<a href=\"https://colab.research.google.com/github/CastilloKarlHarold/CPEN21A-PLD-1-1/blob/main/CPEN.ipynb\" target=\"_parent\"><img src=\"https://colab.research.google.com/assets/colab-badge.svg\" alt=\"Open In Colab\"/></a>"
      ]
    },
    {
      "cell_type": "code",
      "execution_count": null,
      "metadata": {
        "colab": {
          "base_uri": "https://localhost:8080/"
        },
        "id": "oUVqsMBrblu3",
        "outputId": "79a4916c-4dd8-4f05-ecd9-66f46f94fa60"
      },
      "outputs": [
        {
          "output_type": "stream",
          "name": "stdout",
          "text": [
            "What is 5 x 9? 45\n",
            "Correct!\n",
            "What is 2 x 7? 15\n",
            "Sorry, the correct answer is 14.\n",
            "What is 4 x 10? 40\n",
            "Correct!\n",
            "What is 10 x 6? 60\n",
            "Correct!\n",
            "What is 6 x 10? 60\n",
            "Correct!\n",
            "What is 5 x 8? 40\n",
            "Correct!\n",
            "What is 6 x 5? 30\n",
            "Correct!\n",
            "What is 8 x 10? 80\n",
            "Correct!\n",
            "What is 2 x 5? 10\n",
            "Correct!\n",
            "What is 7 x 5? 45\n",
            "Sorry, the correct answer is 35.\n",
            "You got 8 out of 10 questions correct.\n"
          ]
        }
      ],
      "source": [
        "import random\n",
        "\n",
        "def multiplication_game():\n",
        "    # Generate 10 random multiplication questions\n",
        "    questions = [(random.randint(1,10), random.randint(1,10)) for _ in range(10)]\n",
        "\n",
        "    # Initialize score counter\n",
        "    score = 0\n",
        "\n",
        "    # Loop over the questions\n",
        "    for i, (num_1, num_2) in enumerate(questions):\n",
        "        # Prompt the user for an answer\n",
        "        guess = int(input(f\"What is {num_1} x {num_2}? \"))\n",
        "\n",
        "        # Check if the answer is correct\n",
        "        answer = num_1 * num_2\n",
        "        if guess == answer:\n",
        "            print(\"Correct!\")\n",
        "            score += 1\n",
        "        else:\n",
        "            print(f\"Sorry, the correct answer is {answer}.\")\n",
        "\n",
        "    # Print final score\n",
        "    print(f\"You got {score} out of 10 questions correct.\")\n",
        "\n",
        "multiplication_game()"
      ]
    },
    {
      "cell_type": "code",
      "source": [
        "# Prompt the user for input\n",
        "hour = int(input(\"Enter an hour between 1 and 12: \"))\n",
        "period = input(\"am or pm? \")\n",
        "increment = int(input(\"How many hours into the future? \"))\n",
        "\n",
        "# Check if we need to add 12 hours if we are in the afternoon\n",
        "if period.lower() == \"pm\":\n",
        "    hour += 12\n",
        "\n",
        "# Add the increment and handle overflow\n",
        "hour += increment\n",
        "if hour >= 24:\n",
        "    hour -= 24\n",
        "\n",
        "# Print the output\n",
        "if hour == 0:\n",
        "    print(\"12 am\")\n",
        "elif hour < 12:\n",
        "    print(f\"{hour} am\")\n",
        "elif hour == 12:\n",
        "    print(\"12 pm\")\n",
        "else:\n",
        "    print(f\"{hour-12} pm\")"
      ],
      "metadata": {
        "colab": {
          "base_uri": "https://localhost:8080/"
        },
        "id": "PokjJbqmdo-8",
        "outputId": "ab323ad2-eca2-4a9a-d206-53e9be5f14bf"
      },
      "execution_count": null,
      "outputs": [
        {
          "output_type": "stream",
          "name": "stdout",
          "text": [
            "Enter an hour between 1 and 12: 17\n",
            "am or pm? am\n",
            "How many hours into the future? 2\n",
            "7 pm\n"
          ]
        }
      ]
    }
  ]
}